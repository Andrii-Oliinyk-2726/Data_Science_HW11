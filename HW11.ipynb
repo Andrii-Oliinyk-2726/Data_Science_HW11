{
  "nbformat": 4,
  "nbformat_minor": 0,
  "metadata": {
    "colab": {
      "provenance": [],
      "authorship_tag": "ABX9TyMJMk/m+XGL2r2ldyDsYA/J",
      "include_colab_link": true
    },
    "kernelspec": {
      "name": "python3",
      "display_name": "Python 3"
    },
    "language_info": {
      "name": "python"
    }
  },
  "cells": [
    {
      "cell_type": "markdown",
      "metadata": {
        "id": "view-in-github",
        "colab_type": "text"
      },
      "source": [
        "<a href=\"https://colab.research.google.com/github/Andrii-Oliinyk-2726/Data_Science_HW11/blob/main/HW11.ipynb\" target=\"_parent\"><img src=\"https://colab.research.google.com/assets/colab-badge.svg\" alt=\"Open In Colab\"/></a>"
      ]
    },
    {
      "cell_type": "code",
      "execution_count": 1,
      "metadata": {
        "colab": {
          "base_uri": "https://localhost:8080/"
        },
        "id": "ZVNRCerft05N",
        "outputId": "67901f6c-157f-42a1-e5f9-1baaa1d2e917"
      },
      "outputs": [
        {
          "output_type": "stream",
          "name": "stdout",
          "text": [
            "Downloading data from https://storage.googleapis.com/tensorflow/tf-keras-datasets/imdb.npz\n",
            "17464789/17464789 [==============================] - 0s 0us/step\n"
          ]
        }
      ],
      "source": [
        "import time\n",
        "import numpy as np\n",
        "\n",
        "import matplotlib.pyplot as plt\n",
        "from keras.datasets import imdb\n",
        "from keras.utils import pad_sequences\n",
        "from keras.models import Sequential\n",
        "from keras.layers import Embedding, SimpleRNN, LSTM, Bidirectional, Dense\n",
        "\n",
        "\n",
        "max_features = 10000\n",
        "maxlen = 500\n",
        "batch_size = 32\n",
        "\n",
        "(input_train, y_train), (input_test, y_test) = imdb.load_data(num_words=max_features)\n",
        "\n",
        "input_train = pad_sequences(input_train, maxlen=maxlen)\n",
        "input_test = pad_sequences(input_test, maxlen=maxlen)"
      ]
    },
    {
      "cell_type": "markdown",
      "source": [
        "**Рекурентна нейронна мережа (RNN)**"
      ],
      "metadata": {
        "id": "ts6C8bx5vKYD"
      }
    },
    {
      "cell_type": "code",
      "source": [
        "model = Sequential()\n",
        "model.add(Embedding(max_features, 32))\n",
        "model.add(SimpleRNN(32))\n",
        "model.add(Dense(1, activation='sigmoid'))\n",
        "model.compile(optimizer='rmsprop', loss='binary_crossentropy', metrics=['acc'])\n",
        "model.summary()"
      ],
      "metadata": {
        "colab": {
          "base_uri": "https://localhost:8080/"
        },
        "id": "_tkFI7eXxIab",
        "outputId": "ec628a63-dd07-4fd2-fc90-ee3b729c98b9"
      },
      "execution_count": 2,
      "outputs": [
        {
          "output_type": "stream",
          "name": "stdout",
          "text": [
            "Model: \"sequential\"\n",
            "_________________________________________________________________\n",
            " Layer (type)                Output Shape              Param #   \n",
            "=================================================================\n",
            " embedding (Embedding)       (None, None, 32)          320000    \n",
            "                                                                 \n",
            " simple_rnn (SimpleRNN)      (None, 32)                2080      \n",
            "                                                                 \n",
            " dense (Dense)               (None, 1)                 33        \n",
            "                                                                 \n",
            "=================================================================\n",
            "Total params: 322113 (1.23 MB)\n",
            "Trainable params: 322113 (1.23 MB)\n",
            "Non-trainable params: 0 (0.00 Byte)\n",
            "_________________________________________________________________\n"
          ]
        }
      ]
    },
    {
      "cell_type": "code",
      "source": [
        "start_time = time.time()\n",
        "history = model.fit(input_train, y_train, epochs=5, batch_size=128, validation_split=0.3)\n",
        "processing_time = time.time() - start_time\n",
        "print(f\"\\nTotal training time: {processing_time:.2f} seconds\")"
      ],
      "metadata": {
        "colab": {
          "base_uri": "https://localhost:8080/"
        },
        "id": "snWbi_F_xZNz",
        "outputId": "7a128ce0-9e86-411f-9ac3-b698dfbd54d7"
      },
      "execution_count": 3,
      "outputs": [
        {
          "output_type": "stream",
          "name": "stdout",
          "text": [
            "Epoch 1/5\n",
            "137/137 [==============================] - 24s 153ms/step - loss: 0.5992 - acc: 0.6680 - val_loss: 0.4253 - val_acc: 0.8159\n",
            "Epoch 2/5\n",
            "137/137 [==============================] - 22s 158ms/step - loss: 0.3889 - acc: 0.8357 - val_loss: 0.4517 - val_acc: 0.8164\n",
            "Epoch 3/5\n",
            "137/137 [==============================] - 20s 148ms/step - loss: 0.3070 - acc: 0.8752 - val_loss: 0.3706 - val_acc: 0.8423\n",
            "Epoch 4/5\n",
            "137/137 [==============================] - 21s 150ms/step - loss: 0.2523 - acc: 0.9003 - val_loss: 0.4282 - val_acc: 0.8068\n",
            "Epoch 5/5\n",
            "137/137 [==============================] - 22s 163ms/step - loss: 0.1968 - acc: 0.9262 - val_loss: 0.4379 - val_acc: 0.8069\n",
            "\n",
            "Total training time: 145.26 seconds\n"
          ]
        }
      ]
    },
    {
      "cell_type": "code",
      "source": [
        "predictions = model.predict(input_test)\n",
        "binary_predictions = [1 if pred > 0.5 else 0 for pred in predictions]\n",
        "test_loss, test_acc = model.evaluate(input_test, y_test)\n",
        "print('Test Loss: {}'.format(test_loss))\n",
        "print('Test Accuracy: {}'.format(test_acc))"
      ],
      "metadata": {
        "colab": {
          "base_uri": "https://localhost:8080/"
        },
        "id": "rmnh5svVxkvs",
        "outputId": "0a95f2d3-2347-4afa-8322-f345c5fff862"
      },
      "execution_count": 4,
      "outputs": [
        {
          "output_type": "stream",
          "name": "stdout",
          "text": [
            "782/782 [==============================] - 18s 22ms/step\n",
            "782/782 [==============================] - 18s 22ms/step - loss: 0.4454 - acc: 0.8068\n",
            "Test Loss: 0.4454036355018616\n",
            "Test Accuracy: 0.8068400025367737\n"
          ]
        }
      ]
    },
    {
      "cell_type": "markdown",
      "source": [
        "**LSTM**"
      ],
      "metadata": {
        "id": "fqgkqe3lgt0y"
      }
    },
    {
      "cell_type": "code",
      "source": [
        "model = Sequential()\n",
        "model.add(Embedding(max_features, 32))\n",
        "model.add(LSTM(32))\n",
        "model.add(Dense(1, activation='sigmoid'))\n",
        "model.compile(optimizer='rmsprop', loss='binary_crossentropy', metrics=['acc'])\n",
        "model.summary()"
      ],
      "metadata": {
        "colab": {
          "base_uri": "https://localhost:8080/"
        },
        "id": "2C5ZcLSbhJnO",
        "outputId": "30ef252e-13c1-4658-bb0f-11a96f6f8a38"
      },
      "execution_count": 5,
      "outputs": [
        {
          "output_type": "stream",
          "name": "stdout",
          "text": [
            "Model: \"sequential_1\"\n",
            "_________________________________________________________________\n",
            " Layer (type)                Output Shape              Param #   \n",
            "=================================================================\n",
            " embedding_1 (Embedding)     (None, None, 32)          320000    \n",
            "                                                                 \n",
            " lstm (LSTM)                 (None, 32)                8320      \n",
            "                                                                 \n",
            " dense_1 (Dense)             (None, 1)                 33        \n",
            "                                                                 \n",
            "=================================================================\n",
            "Total params: 328353 (1.25 MB)\n",
            "Trainable params: 328353 (1.25 MB)\n",
            "Non-trainable params: 0 (0.00 Byte)\n",
            "_________________________________________________________________\n"
          ]
        }
      ]
    },
    {
      "cell_type": "code",
      "source": [
        "start_time = time.time()\n",
        "history = model.fit(input_train, y_train, epochs=5, batch_size=128, validation_split=0.3)\n",
        "processing_time = time.time() - start_time\n",
        "print(f\"\\nTotal training time: {processing_time:.2f} seconds\")\n"
      ],
      "metadata": {
        "colab": {
          "base_uri": "https://localhost:8080/"
        },
        "id": "1Nsn4znglH7N",
        "outputId": "9ac9f102-d769-47c3-e693-2daa621ab571"
      },
      "execution_count": 6,
      "outputs": [
        {
          "output_type": "stream",
          "name": "stdout",
          "text": [
            "Epoch 1/5\n",
            "137/137 [==============================] - 47s 331ms/step - loss: 0.6140 - acc: 0.6609 - val_loss: 0.4361 - val_acc: 0.8200\n",
            "Epoch 2/5\n",
            "137/137 [==============================] - 44s 324ms/step - loss: 0.3734 - acc: 0.8474 - val_loss: 0.3393 - val_acc: 0.8600\n",
            "Epoch 3/5\n",
            "137/137 [==============================] - 46s 340ms/step - loss: 0.2816 - acc: 0.8911 - val_loss: 0.3516 - val_acc: 0.8519\n",
            "Epoch 4/5\n",
            "137/137 [==============================] - 50s 366ms/step - loss: 0.2354 - acc: 0.9098 - val_loss: 0.2885 - val_acc: 0.8857\n",
            "Epoch 5/5\n",
            "137/137 [==============================] - 50s 365ms/step - loss: 0.2049 - acc: 0.9275 - val_loss: 0.3041 - val_acc: 0.8843\n",
            "\n",
            "Total training time: 263.84 seconds\n"
          ]
        }
      ]
    },
    {
      "cell_type": "code",
      "source": [
        "predictions = model.predict(input_test)\n",
        "test_loss, test_acc = model.evaluate(input_test, y_test)\n",
        "print('Test Loss: {}'.format(test_loss))\n",
        "print('Test Accuracy: {}'.format(test_acc))"
      ],
      "metadata": {
        "colab": {
          "base_uri": "https://localhost:8080/"
        },
        "id": "6IXYkNyulb3s",
        "outputId": "807f48ec-595d-4f1d-a5f9-093143ca4380"
      },
      "execution_count": 7,
      "outputs": [
        {
          "output_type": "stream",
          "name": "stdout",
          "text": [
            "782/782 [==============================] - 35s 44ms/step\n",
            "782/782 [==============================] - 35s 45ms/step - loss: 0.3189 - acc: 0.8775\n",
            "Test Loss: 0.3189212381839752\n",
            "Test Accuracy: 0.8774799704551697\n"
          ]
        }
      ]
    },
    {
      "cell_type": "markdown",
      "source": [
        "**Bidirectional_LSTM**"
      ],
      "metadata": {
        "id": "VSJ7krOSloeY"
      }
    },
    {
      "cell_type": "code",
      "source": [
        "model = Sequential()\n",
        "model.add(Embedding(max_features, 32))\n",
        "model.add(Bidirectional(LSTM(32)))\n",
        "model.add(Dense(1, activation='sigmoid'))\n",
        "model.compile(optimizer='rmsprop', loss='binary_crossentropy', metrics=['acc'])\n",
        "model.summary()"
      ],
      "metadata": {
        "colab": {
          "base_uri": "https://localhost:8080/"
        },
        "id": "QB6uYL0hl3_w",
        "outputId": "36269dd6-baf8-4970-a704-6ad5b8911af9"
      },
      "execution_count": 8,
      "outputs": [
        {
          "output_type": "stream",
          "name": "stdout",
          "text": [
            "Model: \"sequential_2\"\n",
            "_________________________________________________________________\n",
            " Layer (type)                Output Shape              Param #   \n",
            "=================================================================\n",
            " embedding_2 (Embedding)     (None, None, 32)          320000    \n",
            "                                                                 \n",
            " bidirectional (Bidirection  (None, 64)                16640     \n",
            " al)                                                             \n",
            "                                                                 \n",
            " dense_2 (Dense)             (None, 1)                 65        \n",
            "                                                                 \n",
            "=================================================================\n",
            "Total params: 336705 (1.28 MB)\n",
            "Trainable params: 336705 (1.28 MB)\n",
            "Non-trainable params: 0 (0.00 Byte)\n",
            "_________________________________________________________________\n"
          ]
        }
      ]
    },
    {
      "cell_type": "code",
      "source": [
        "start_time = time.time()\n",
        "history = model.fit(input_train, y_train, epochs=5, batch_size=128, validation_split=0.3)\n",
        "processing_time = time.time() - start_time\n",
        "print(f\"\\nTotal training time: {processing_time:.2f} seconds\")"
      ],
      "metadata": {
        "colab": {
          "base_uri": "https://localhost:8080/"
        },
        "id": "2pgrggNhoPU7",
        "outputId": "43629811-98bb-46bc-f8f6-2ae7985642e7"
      },
      "execution_count": 9,
      "outputs": [
        {
          "output_type": "stream",
          "name": "stdout",
          "text": [
            "Epoch 1/5\n",
            "137/137 [==============================] - 96s 668ms/step - loss: 0.6502 - acc: 0.6066 - val_loss: 0.5036 - val_acc: 0.8023\n",
            "Epoch 2/5\n",
            "137/137 [==============================] - 82s 602ms/step - loss: 0.4551 - acc: 0.8037 - val_loss: 0.3602 - val_acc: 0.8569\n",
            "Epoch 3/5\n",
            "137/137 [==============================] - 83s 607ms/step - loss: 0.3171 - acc: 0.8744 - val_loss: 0.3527 - val_acc: 0.8520\n",
            "Epoch 4/5\n",
            "137/137 [==============================] - 82s 599ms/step - loss: 0.2579 - acc: 0.9031 - val_loss: 0.3026 - val_acc: 0.8759\n",
            "Epoch 5/5\n",
            "137/137 [==============================] - 84s 616ms/step - loss: 0.2296 - acc: 0.9171 - val_loss: 0.3106 - val_acc: 0.8805\n",
            "\n",
            "Total training time: 445.92 seconds\n"
          ]
        }
      ]
    },
    {
      "cell_type": "code",
      "source": [
        "predictions = model.predict(input_test)\n",
        "test_loss, test_acc = model.evaluate(input_test, y_test)\n",
        "print('Test Loss: {}'.format(test_loss))\n",
        "print('Test Accuracy: {}'.format(test_acc))"
      ],
      "metadata": {
        "colab": {
          "base_uri": "https://localhost:8080/"
        },
        "id": "Mk8vpH2gogNe",
        "outputId": "23fe2b98-60dd-4c70-8256-a2fad0dea273"
      },
      "execution_count": 10,
      "outputs": [
        {
          "output_type": "stream",
          "name": "stdout",
          "text": [
            "782/782 [==============================] - 53s 67ms/step\n",
            "782/782 [==============================] - 53s 67ms/step - loss: 0.3265 - acc: 0.8716\n",
            "Test Loss: 0.32651400566101074\n",
            "Test Accuracy: 0.8715599775314331\n"
          ]
        }
      ]
    },
    {
      "cell_type": "markdown",
      "source": [
        "**Deep_LSTM**"
      ],
      "metadata": {
        "id": "tkN-rkK2q59G"
      }
    },
    {
      "cell_type": "code",
      "source": [
        "model = Sequential()\n",
        "model.add(Embedding(max_features, 32))\n",
        "model.add(Bidirectional(LSTM(32, return_sequences=True)))\n",
        "model.add(Bidirectional(LSTM(32)))\n",
        "model.add(Dense(1, activation='sigmoid'))\n",
        "model.compile(optimizer='rmsprop', loss='binary_crossentropy', metrics=['acc'])\n",
        "model.summary()"
      ],
      "metadata": {
        "colab": {
          "base_uri": "https://localhost:8080/"
        },
        "id": "q6z8JE43rRox",
        "outputId": "4d67a0b6-842f-40d2-b9b4-859844acf71e"
      },
      "execution_count": 11,
      "outputs": [
        {
          "output_type": "stream",
          "name": "stdout",
          "text": [
            "Model: \"sequential_3\"\n",
            "_________________________________________________________________\n",
            " Layer (type)                Output Shape              Param #   \n",
            "=================================================================\n",
            " embedding_3 (Embedding)     (None, None, 32)          320000    \n",
            "                                                                 \n",
            " bidirectional_1 (Bidirecti  (None, None, 64)          16640     \n",
            " onal)                                                           \n",
            "                                                                 \n",
            " bidirectional_2 (Bidirecti  (None, 64)                24832     \n",
            " onal)                                                           \n",
            "                                                                 \n",
            " dense_3 (Dense)             (None, 1)                 65        \n",
            "                                                                 \n",
            "=================================================================\n",
            "Total params: 361537 (1.38 MB)\n",
            "Trainable params: 361537 (1.38 MB)\n",
            "Non-trainable params: 0 (0.00 Byte)\n",
            "_________________________________________________________________\n"
          ]
        }
      ]
    },
    {
      "cell_type": "code",
      "source": [
        "start_time = time.time()\n",
        "history = model.fit(input_train, y_train, epochs=5, batch_size=128, validation_split=0.3)\n",
        "processing_time = time.time() - start_time\n",
        "print(f\"\\nTotal training time: {processing_time:.2f} seconds\")"
      ],
      "metadata": {
        "colab": {
          "base_uri": "https://localhost:8080/"
        },
        "id": "jQiT2qQArlyI",
        "outputId": "e9e25780-df42-4b39-918e-92a7c133f810"
      },
      "execution_count": 12,
      "outputs": [
        {
          "output_type": "stream",
          "name": "stdout",
          "text": [
            "Epoch 1/5\n",
            "137/137 [==============================] - 194s 1s/step - loss: 0.6470 - acc: 0.5904 - val_loss: 0.4801 - val_acc: 0.7772\n",
            "Epoch 2/5\n",
            "137/137 [==============================] - 184s 1s/step - loss: 0.3924 - acc: 0.8335 - val_loss: 0.3452 - val_acc: 0.8608\n",
            "Epoch 3/5\n",
            "137/137 [==============================] - 182s 1s/step - loss: 0.2843 - acc: 0.8874 - val_loss: 0.3194 - val_acc: 0.8775\n",
            "Epoch 4/5\n",
            "137/137 [==============================] - 184s 1s/step - loss: 0.2277 - acc: 0.9132 - val_loss: 0.3180 - val_acc: 0.8684\n",
            "Epoch 5/5\n",
            "137/137 [==============================] - 185s 1s/step - loss: 0.1962 - acc: 0.9293 - val_loss: 0.3758 - val_acc: 0.8584\n",
            "\n",
            "Total training time: 988.55 seconds\n"
          ]
        }
      ]
    },
    {
      "cell_type": "code",
      "source": [
        "predictions = model.predict(input_test)\n",
        "test_loss, test_acc = model.evaluate(input_test, y_test)\n",
        "print('Test Loss: {}'.format(test_loss))\n",
        "print('Test Accuracy: {}'.format(test_acc))"
      ],
      "metadata": {
        "colab": {
          "base_uri": "https://localhost:8080/"
        },
        "id": "5hMUd2LCr6ST",
        "outputId": "a4a85d83-206c-40cc-b53c-63fd6c46c4d4"
      },
      "execution_count": 13,
      "outputs": [
        {
          "output_type": "stream",
          "name": "stdout",
          "text": [
            "782/782 [==============================] - 110s 138ms/step\n",
            "782/782 [==============================] - 111s 142ms/step - loss: 0.3832 - acc: 0.8537\n",
            "Test Loss: 0.3832310438156128\n",
            "Test Accuracy: 0.8536800146102905\n"
          ]
        }
      ]
    },
    {
      "cell_type": "markdown",
      "source": [
        "Проведення кількох запусків моделей з приблизно однаковими параметрами показали що RNN на навчання витратила 145 секунд (Test Accuracy: 0.8068),  LSTM - 263 секунди (Test Accuracy: 0.8774), Bidirectional_LSTM - 445 секунд (Test Accuracy: 0.8715) та Deep_LSTM - 988 секунд (Test Accuracy: 0.8536).\n",
        "\n",
        "Вибір конкретної архітектури має залежати від конкретної задачі а також від наявності ресурсів для побудови моделі."
      ],
      "metadata": {
        "id": "KSXiUT_ewXXo"
      }
    }
  ]
}